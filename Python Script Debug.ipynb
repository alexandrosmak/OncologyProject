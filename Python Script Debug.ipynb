{
 "cells": [
  {
   "cell_type": "code",
   "execution_count": 36,
   "id": "cc3adc24",
   "metadata": {},
   "outputs": [],
   "source": [
    "import os\n",
    "import pandas as pd\n",
    "import numpy as np\n",
    "import matplotlib.pyplot as plt\n",
    "from sklearn.model_selection import train_test_split\n",
    "from sklearn.linear_model import LogisticRegression\n",
    "from sklearn.ensemble import RandomForestClassifier\n",
    "from sklearn.inspection import permutation_importance\n",
    "from sklearn.metrics import roc_curve, auc, confusion_matrix\n",
    "import statsmodels.api as sm\n",
    "import statsmodels.formula.api as smf\n",
    "from lifelines import KaplanMeierFitter"
   ]
  },
  {
   "cell_type": "code",
   "execution_count": 37,
   "id": "19bf258f",
   "metadata": {},
   "outputs": [],
   "source": [
    "# 0. Setup\n",
    "outdir = r\"C:\\Users\\tm1621\\Desktop\\Protein Project\"\n",
    "os.makedirs(outdir, exist_ok=True)\n",
    "r_dir  = r\"C:\\Users\\tm1621\\Desktop\\Protein Project\\R Results\"\n",
    "\n",
    "# 1. LOAD DATA FILES\n",
    "maf_file = os.path.join(outdir, \"cohortMAF.2025-05-25.maf\")\n",
    "clinical_file = r\"C:\\Users\\tm1621\\Desktop\\Protein Project\\clinical.cohort.2025-05-25\\clinical.tsv\"\n",
    "\n",
    "maf = pd.read_csv(maf_file, sep=\"\\t\", comment=\"#\", low_memory=False)\n",
    "clinical = pd.read_csv(clinical_file, sep=\"\\t\", low_memory=False)"
   ]
  },
  {
   "cell_type": "code",
   "execution_count": 38,
   "id": "15abef15",
   "metadata": {},
   "outputs": [
    {
     "name": "stdout",
     "output_type": "stream",
     "text": [
      "Rows before dropna: 2750\n",
      "Rows after  dropna: 2106\n"
     ]
    }
   ],
   "source": [
    "# 2 & 3. FEATURE AGGREGATION & CLEANING\n",
    "drivers = [\"KRAS\", \"TP53\", \"APC\", \"SMAD4\"]\n",
    "vc_types = [\"Missense_Mutation\", \"Nonsense_Mutation\", \"Frame_Shift_Del\", \"Frame_Shift_Ins\"]\n",
    "\n",
    "# a) driver flags like data.table::dcast\n",
    "maf_drivers = maf[\n",
    "    maf[\"Hugo_Symbol\"].isin(drivers) &\n",
    "    maf[\"Variant_Classification\"].isin(vc_types)\n",
    "]\n",
    "flags = (\n",
    "    maf_drivers\n",
    "    .groupby([\"Tumor_Sample_Barcode\", \"Hugo_Symbol\"])\n",
    "    .size()\n",
    "    .unstack(fill_value=0)                 # 0 = no hits\n",
    "    .map(lambda x: 1 if x > 0 else 0) # convert to binary\n",
    "    .reset_index()\n",
    ")\n",
    "\n",
    "# b) tumor mutational burden\n",
    "tmb = (\n",
    "    maf[maf[\"Variant_Classification\"].isin(vc_types)]\n",
    "    .groupby(\"Tumor_Sample_Barcode\")\n",
    "    .size()\n",
    "    .reset_index(name=\"Mutation_Count\")\n",
    ")\n",
    "\n",
    "# c) Merge and join clinical\n",
    "flags[\"Sample_ID\"] = flags[\"Tumor_Sample_Barcode\"].str[:12]\n",
    "tmb[\"Sample_ID\"] = tmb[\"Tumor_Sample_Barcode\"].str[:12]\n",
    "feature_table = (\n",
    "    flags\n",
    "    .merge(tmb, on=[\"Tumor_Sample_Barcode\", \"Sample_ID\"], how=\"outer\")\n",
    "    .merge(clinical,\n",
    "           left_on=\"Sample_ID\",\n",
    "           right_on=\"cases.submitter_id\",\n",
    "           how=\"left\")\n",
    ")\n",
    "\n",
    "feature_table['Age'] = pd.to_numeric(\n",
    "    feature_table['demographic.age_at_index'],\n",
    "    errors='coerce'\n",
    ")\n",
    "\n",
    "# b) Pull out the exact same columns into model_data\n",
    "model_data = feature_table[[\n",
    "    'KRAS','TP53','APC','SMAD4','Mutation_Count',\n",
    "    'Age',\n",
    "    'diagnoses.ajcc_pathologic_stage',\n",
    "    'demographic.vital_status',\n",
    "    'diagnoses.days_to_last_follow_up'\n",
    "]].copy()\n",
    "\n",
    "# c) Rename to match R\n",
    "model_data.columns = [\n",
    "    'KRAS','TP53','APC','SMAD4','Mutation_Count',\n",
    "    'Age','Stage','Outcome','FollowUp'\n",
    "]\n",
    "\n",
    "# d) Cast Stage and Outcome as categorical (factor in R)\n",
    "model_data['Stage']   = model_data['Stage'].astype('category')\n",
    "model_data['Outcome'] = model_data['Outcome'].astype('category')\n",
    "\n",
    "\n",
    "# e) Drop any row with an actual NA in *any* of these columns,\n",
    "#    exactly like R’s na.omit(model_data)\n",
    "print(\"Rows before dropna:\", model_data.shape[0])\n",
    "model_data = model_data.dropna()\n",
    "print(\"Rows after  dropna:\", model_data.shape[0])"
   ]
  },
  {
   "cell_type": "code",
   "execution_count": 39,
   "id": "c41b05b8",
   "metadata": {},
   "outputs": [
    {
     "name": "stdout",
     "output_type": "stream",
     "text": [
      "Rows after  dropna: 2106\n"
     ]
    }
   ],
   "source": [
    "# Convert FollowUp to numeric *after* the initial dropna\n",
    "model_data['FollowUp'] = pd.to_numeric(\n",
    "    model_data['FollowUp'], errors='coerce'\n",
    ")\n",
    "print(\"Rows after  dropna:\", model_data.shape[0])"
   ]
  },
  {
   "cell_type": "code",
   "execution_count": 40,
   "id": "5f8c178c",
   "metadata": {},
   "outputs": [
    {
     "name": "stdout",
     "output_type": "stream",
     "text": [
      "(2106, 9) (2106, 9)\n"
     ]
    }
   ],
   "source": [
    "df_r = pd.read_csv(r\"C:\\Users\\tm1621\\Desktop\\Protein Project\\R Results\\model_data_cleaned.csv\")\n",
    "df_py  = pd.read_csv(r\"C:\\Users\\tm1621\\Desktop\\Protein Project\\model_data_cleaned.csv\")\n",
    "print(df_py.shape, df_r.shape)"
   ]
  },
  {
   "cell_type": "code",
   "execution_count": 41,
   "id": "2847901f",
   "metadata": {},
   "outputs": [],
   "source": [
    "model_data['Outcome_num'] = model_data['Outcome'].map({'Dead':1,'Alive':0})\n",
    "fit_full_py = smf.glm(\n",
    "    formula='Outcome_num ~ KRAS + TP53 + APC + SMAD4 + Mutation_Count + Age + C(Stage)',\n",
    "    data=model_data,\n",
    "    family=sm.families.Binomial()\n",
    ").fit()\n",
    "pd.DataFrame({'coef': fit_full_py.params}).to_csv(\n",
    "    os.path.join(outdir, \"full_coefs_PY.csv\")\n",
    ")"
   ]
  },
  {
   "cell_type": "markdown",
   "id": "c36eb5ca",
   "metadata": {},
   "source": [
    "### **~~~~~~~~~~~~~~~~~~ should be fine up to here ~~~~~~~~~~~~~~~~~~**"
   ]
  },
  {
   "cell_type": "code",
   "execution_count": 42,
   "id": "1c28b215",
   "metadata": {},
   "outputs": [],
   "source": [
    "levels = model_data['Stage'].astype('category').cat.categories\n",
    "model_data['Stage'] = pd.Categorical(\n",
    "    model_data['Stage'],\n",
    "    categories=levels,\n",
    "    ordered=True\n",
    ")\n",
    "# 2) Train/test split (same 70% R used)\n",
    "n       = len(model_data)\n",
    "n_train = int(0.7 * n)\n",
    "shuf    = model_data.sample(frac=1, random_state=1234).reset_index(drop=True)\n",
    "train_py = shuf.iloc[:n_train].copy()\n",
    "test_py  = shuf.iloc[n_train:].copy()\n",
    "\n",
    "train_py['Outcome_num'] = train_py['Outcome'].map({'Dead':1,'Alive':0})"
   ]
  },
  {
   "cell_type": "code",
   "execution_count": null,
   "id": "680c62f3",
   "metadata": {},
   "outputs": [
    {
     "name": "stdout",
     "output_type": "stream",
     "text": [
      "                          Generalized Linear Model Regression Results                           \n",
      "================================================================================================\n",
      "Dep. Variable:     ['Outcome_num[0]', 'Outcome_num[1]']   No. Observations:                 1474\n",
      "Model:                                              GLM   Df Residuals:                     1454\n",
      "Model Family:                                  Binomial   Df Model:                           19\n",
      "Link Function:                                    Logit   Scale:                          1.0000\n",
      "Method:                                            IRLS   Log-Likelihood:                -713.62\n",
      "Date:                                  Wed, 16 Jul 2025   Deviance:                       1427.2\n",
      "Time:                                          17:14:08   Pearson chi2:                 1.45e+03\n",
      "No. Iterations:                                      22   Pseudo R-squ. (CS):             0.1467\n",
      "Covariance Type:                              nonrobust                                         \n",
      "==========================================================================================\n",
      "                             coef    std err          z      P>|z|      [0.025      0.975]\n",
      "------------------------------------------------------------------------------------------\n",
      "Intercept                  2.8375      0.424      6.687      0.000       2.006       3.669\n",
      "C(Stage)[T.Stage I]        2.2833      0.409      5.579      0.000       1.481       3.086\n",
      "C(Stage)[T.Stage IA]      22.0942   4.58e+04      0.000      1.000   -8.98e+04    8.99e+04\n",
      "C(Stage)[T.Stage II]       0.6227      0.390      1.598      0.110      -0.141       1.387\n",
      "C(Stage)[T.Stage IIA]      1.8203      0.284      6.413      0.000       1.264       2.377\n",
      "C(Stage)[T.Stage IIB]      2.4376      0.799      3.052      0.002       0.872       4.003\n",
      "C(Stage)[T.Stage IIC]     23.0699   4.56e+04      0.001      1.000   -8.94e+04    8.94e+04\n",
      "C(Stage)[T.Stage III]      0.3832      0.345      1.110      0.267      -0.294       1.060\n",
      "C(Stage)[T.Stage IIIA]     2.2333      0.751      2.972      0.003       0.761       3.706\n",
      "C(Stage)[T.Stage IIIB]     0.9935      0.229      4.341      0.000       0.545       1.442\n",
      "C(Stage)[T.Stage IIIC]     0.0141      0.227      0.062      0.951      -0.431       0.459\n",
      "C(Stage)[T.Stage IV]      -0.5714      0.186     -3.078      0.002      -0.935      -0.208\n",
      "C(Stage)[T.Stage IVA]      0.2494      0.316      0.788      0.430      -0.371       0.869\n",
      "C(Stage)[T.Stage IVB]     22.4285   1.86e+04      0.001      0.999   -3.63e+04    3.64e+04\n",
      "KRAS                       0.4242      0.137      3.092      0.002       0.155       0.693\n",
      "TP53                      -0.4559      0.145     -3.150      0.002      -0.740      -0.172\n",
      "APC                       -0.4716      0.180     -2.626      0.009      -0.824      -0.120\n",
      "SMAD4                     -0.4206      0.185     -2.268      0.023      -0.784      -0.057\n",
      "Mutation_Count            -0.0002      9e-05     -2.234      0.025      -0.000   -2.47e-05\n",
      "Age                       -0.0246      0.005     -4.512      0.000      -0.035      -0.014\n",
      "==========================================================================================\n"
     ]
    }
   ],
   "source": [
    "formula = (\n",
    "    'Outcome_num ~ KRAS + TP53 + APC + SMAD4 + '\n",
    "    'Mutation_Count + Age + C(Stage)'\n",
    ")\n",
    "logit_py = smf.glm(\n",
    "    formula=formula,\n",
    "    data=train_py,\n",
    "    family=sm.families.Binomial()\n",
    ").fit()\n",
    "\n",
    "print(logit_py.summary())"
   ]
  },
  {
   "cell_type": "code",
   "execution_count": 44,
   "id": "91b52469",
   "metadata": {},
   "outputs": [
    {
     "name": "stderr",
     "output_type": "stream",
     "text": [
      "c:\\Users\\tm1621\\AppData\\Local\\anaconda3\\Lib\\site-packages\\pandas\\core\\arraylike.py:399: RuntimeWarning: overflow encountered in exp\n",
      "  result = getattr(ufunc, method)(*inputs, **kwargs)\n"
     ]
    }
   ],
   "source": [
    "mapping = {\"Intercept\": \"(Intercept)\"}\n",
    "for lvl in levels[1:]:   # skip levels[0], the reference\n",
    "    py_key = f'C(Stage)[T.{lvl}]'\n",
    "    r_key  = f\"Stage{lvl}\"  # e.g. \"StageStage IA\"\n",
    "    mapping[py_key] = r_key\n",
    "\n",
    "coef_df = pd.DataFrame({\n",
    "    \"variable\": [mapping.get(k, k) for k in logit_py.params.index],\n",
    "    \"coef\":     logit_py.params.values\n",
    "})\n",
    "coef_df.to_csv(os.path.join(outdir, \"Model_coefficients_for_EMR_PY.csv\"), index=False)\n",
    "\n",
    "# export ORs\n",
    "conf = logit_py.conf_int()\n",
    "or_df = pd.DataFrame({\n",
    "    \"variable\": [mapping.get(k, k) for k in logit_py.params.index],\n",
    "    \"OR\":        np.exp(logit_py.params),\n",
    "    \"CI_lower\":  np.exp(conf[0]),\n",
    "    \"CI_upper\":  np.exp(conf[1])\n",
    "})\n",
    "or_df.to_csv(os.path.join(outdir, \"Logistic_ORs_PY.csv\"), index=False)"
   ]
  },
  {
   "cell_type": "code",
   "execution_count": 45,
   "id": "9afe4566",
   "metadata": {},
   "outputs": [
    {
     "name": "stdout",
     "output_type": "stream",
     "text": [
      "                    coef   coef_py      diff\n",
      "KRAS           -0.579861  0.424172  1.004033\n",
      "TP53            0.450985 -0.455892 -0.906877\n",
      "APC             0.417470 -0.471612 -0.889082\n",
      "SMAD4           0.465998 -0.420641 -0.886639\n",
      "Mutation_Count  0.000144 -0.000201 -0.000345\n",
      "Age             0.030341 -0.024643 -0.054984\n"
     ]
    }
   ],
   "source": [
    "r_path  = r\"C:\\Users\\tm1621\\Desktop\\Protein Project\\R Results\\Model_coefficients_for_EMR.csv\"\n",
    "py_coef = pd.DataFrame({\n",
    "    \"coef_py\": logit_py.params\n",
    "})\n",
    "# Load R’s β‐coefficients (log‐odds)\n",
    "r_coef = pd.read_csv(r_path, index_col=\"variable\")\n",
    "\n",
    "# Join & compare\n",
    "cmp = r_coef.join(py_coef, how=\"inner\")\n",
    "cmp[\"diff\"] = cmp[\"coef_py\"] - cmp[\"coef\"]\n",
    "print(cmp[[\"coef\",\"coef_py\",\"diff\"]])"
   ]
  },
  {
   "cell_type": "code",
   "execution_count": 46,
   "id": "1bc77d64",
   "metadata": {},
   "outputs": [
    {
     "name": "stdout",
     "output_type": "stream",
     "text": [
      "Python Stage categories: [\"'--\", 'Stage I', 'Stage IA', 'Stage II', 'Stage IIA', 'Stage IIB', 'Stage IIC', 'Stage III', 'Stage IIIA', 'Stage IIIB', 'Stage IIIC', 'Stage IV', 'Stage IVA', 'Stage IVB']\n",
      "Python Stage value counts:\n",
      " Stage\n",
      "'--           389\n",
      "Stage IIIB    204\n",
      "Stage IIA     196\n",
      "Stage IV      195\n",
      "Stage I       128\n",
      "Stage IIIC    123\n",
      "Stage IVA      62\n",
      "Stage III      48\n",
      "Stage II       41\n",
      "Stage IIIA     36\n",
      "Stage IIB      28\n",
      "Stage IVB      18\n",
      "Stage IA        3\n",
      "Stage IIC       3\n",
      "Name: count, dtype: int64\n"
     ]
    }
   ],
   "source": [
    "print(\"Python Stage categories:\", train_py['Stage'].cat.categories.tolist())\n",
    "print(\"Python Stage value counts:\\n\", train_py['Stage'].value_counts(dropna=False))"
   ]
  },
  {
   "cell_type": "code",
   "execution_count": null,
   "id": "4cf881a2",
   "metadata": {},
   "outputs": [],
   "source": []
  }
 ],
 "metadata": {
  "kernelspec": {
   "display_name": "base",
   "language": "python",
   "name": "python3"
  },
  "language_info": {
   "codemirror_mode": {
    "name": "ipython",
    "version": 3
   },
   "file_extension": ".py",
   "mimetype": "text/x-python",
   "name": "python",
   "nbconvert_exporter": "python",
   "pygments_lexer": "ipython3",
   "version": "3.12.3"
  }
 },
 "nbformat": 4,
 "nbformat_minor": 5
}
